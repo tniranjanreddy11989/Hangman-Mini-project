{
 "cells": [
  {
   "cell_type": "code",
   "execution_count": 116,
   "id": "b934b873",
   "metadata": {},
   "outputs": [
    {
     "name": "stdout",
     "output_type": "stream",
     "text": [
      "guess a letter:a\n",
      "chances left: 6\n",
      "_ _ _ _ _ _ guess a letter:o\n",
      "chances left: 6\n",
      "o _ _ _ _ _ guess a letter:n\n",
      "chances left: 6\n",
      "o n _ _ n _ guess a letter:l\n",
      "chances left: 6\n",
      "o n l _ n _ guess a letter:i\n",
      "chances left: 6\n",
      "o n l i n _ guess a letter:e\n",
      "chances left: 6\n",
      "o n l i n e \n",
      " You guessed the word correctly\n"
     ]
    }
   ],
   "source": [
    "choose = 'Watch the ABC Shows online at abc com Get exclusive videos and free episodes'.split()\n",
    "word = choose[randint(0,len(choose))]\n",
    "lst = ['_' for i in range(len(word))]\n",
    "\n",
    "def display():\n",
    "    [print(lst[i],end=' ') for i in range(len(word))]\n",
    "count =0\n",
    "count1 =0\n",
    "while count!=7 and count1 != len(word) :\n",
    "    user = input('guess a letter:')\n",
    "    if user not in word:\n",
    "        count += 1\n",
    "    print ('chances left:', 7-count)\n",
    "    \n",
    "    for i in range(0,len(word)):\n",
    "        if word[i] == user:\n",
    "            lst[i] = user\n",
    "            count1 += 1\n",
    "        \n",
    "    display()\n",
    "if count1 == len(word):\n",
    "    print ('\\n','You guessed the word correctly')\n",
    "elif count == 7:\n",
    "    print('\\n', 'You have failed to guess the word')"
   ]
  },
  {
   "cell_type": "code",
   "execution_count": 101,
   "id": "aa636d16",
   "metadata": {},
   "outputs": [],
   "source": [
    "word = 'apple'\n",
    "lst = ['_' for i in range(len(word))]\n",
    "\n",
    "def display():\n",
    "    print(lst[0], lst[1], lst[2], lst[3], lst[4])"
   ]
  },
  {
   "cell_type": "code",
   "execution_count": 104,
   "id": "657bac66",
   "metadata": {},
   "outputs": [
    {
     "ename": "SyntaxError",
     "evalue": "invalid syntax (<ipython-input-104-973d889b71d5>, line 1)",
     "output_type": "error",
     "traceback": [
      "\u001b[1;36m  File \u001b[1;32m\"<ipython-input-104-973d889b71d5>\"\u001b[1;36m, line \u001b[1;32m1\u001b[0m\n\u001b[1;33m    print(lst[i],end=' ') for i in range(len(word))\u001b[0m\n\u001b[1;37m                          ^\u001b[0m\n\u001b[1;31mSyntaxError\u001b[0m\u001b[1;31m:\u001b[0m invalid syntax\n"
     ]
    }
   ],
   "source": [
    "[print(lst[i],end=' ') for i in range(len(word))]"
   ]
  },
  {
   "cell_type": "code",
   "execution_count": 110,
   "id": "165760ff",
   "metadata": {},
   "outputs": [],
   "source": [
    "choose = 'Watch the ABC Shows online at abc com Get exclusive videos and free episodes'.split()"
   ]
  },
  {
   "cell_type": "code",
   "execution_count": 113,
   "id": "fe441714",
   "metadata": {},
   "outputs": [],
   "source": [
    "from random import randint"
   ]
  },
  {
   "cell_type": "code",
   "execution_count": 115,
   "id": "61fc9ece",
   "metadata": {},
   "outputs": [
    {
     "data": {
      "text/plain": [
       "'the'"
      ]
     },
     "execution_count": 115,
     "metadata": {},
     "output_type": "execute_result"
    }
   ],
   "source": [
    "choose[randint(0,len(choose))]"
   ]
  },
  {
   "cell_type": "code",
   "execution_count": null,
   "id": "544887aa",
   "metadata": {},
   "outputs": [],
   "source": []
  }
 ],
 "metadata": {
  "kernelspec": {
   "display_name": "Python 3",
   "language": "python",
   "name": "python3"
  },
  "language_info": {
   "codemirror_mode": {
    "name": "ipython",
    "version": 3
   },
   "file_extension": ".py",
   "mimetype": "text/x-python",
   "name": "python",
   "nbconvert_exporter": "python",
   "pygments_lexer": "ipython3",
   "version": "3.8.8"
  }
 },
 "nbformat": 4,
 "nbformat_minor": 5
}
